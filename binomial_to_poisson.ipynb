{
 "cells": [
  {
   "cell_type": "code",
   "execution_count": 1,
   "id": "c57143ee-c673-428d-9661-6e72fe522886",
   "metadata": {},
   "outputs": [],
   "source": [
    "import numpy as np\n",
    "import matplotlib.pyplot as plt\n",
    "import seaborn as sns\n",
    "from scipy.stats import binom, poisson, expon\n",
    "\n",
    "sns.set()"
   ]
  },
  {
   "cell_type": "code",
   "execution_count": 15,
   "id": "f42e2c69-f989-4b83-bafa-dae9a22e1313",
   "metadata": {},
   "outputs": [],
   "source": [
    "tau = 1\n",
    "\n",
    "rng = np.random.default_rng(seed = 1431)\n",
    "\n",
    "x_lines = np.arange(0, 20 + 1, 1)\n",
    "y_poisson = poisson.pmf(x_lines, 10 * 0.5)\n",
    "\n",
    "y_binom = binom.pmf(x_lines, tau * 10, 0.5 / tau)\n",
    "plt.bar(x_lines, y_binom, width = 1, color = '#7b87d1', edgecolor = 'black', label = \"Binomial Distribution\")\n",
    "plt.step(x_lines + 1/2, y_poisson, color = '#858585', label = r'Poisson Distribution: $\\lambda = 5$')\n",
    "plt.xlabel(r\"$n$\")\n",
    "plt.ylabel(r\"$P(n)$\")\n",
    "plt.xlim(0,15)\n",
    "plt.ylim(0,0.27)\n",
    "plt.xticks(np.arange(0,15,1))\n",
    "plt.legend()\n",
    "plt.title(\"Binomial Distribution to Poisson Distribution\")\n",
    "plt.show()\n",
    "plt.close()"
   ]
  }
 ],
 "metadata": {
  "kernelspec": {
   "display_name": "Python [conda env:base] *",
   "language": "python",
   "name": "conda-base-py"
  },
  "language_info": {
   "codemirror_mode": {
    "name": "ipython",
    "version": 3
   },
   "file_extension": ".py",
   "mimetype": "text/x-python",
   "name": "python",
   "nbconvert_exporter": "python",
   "pygments_lexer": "ipython3",
   "version": "3.12.11"
  }
 },
 "nbformat": 4,
 "nbformat_minor": 5
}
